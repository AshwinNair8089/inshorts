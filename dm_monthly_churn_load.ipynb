{
 "cells": [
  {
   "cell_type": "code",
   "execution_count": 0,
   "metadata": {
    "application/vnd.databricks.v1+cell": {
     "cellMetadata": {},
     "inputWidgets": {},
     "nuid": "b72ac4ef-8ddd-42e9-a442-d0086900f2ea",
     "showTitle": false,
     "tableResultSettingsMap": {},
     "title": ""
    }
   },
   "outputs": [],
   "source": [
    "%run \"/Workspace/Repos/ashwin.nair8089@gmail.com/inshorts/library/connector\""
   ]
  },
  {
   "cell_type": "code",
   "execution_count": 0,
   "metadata": {
    "application/vnd.databricks.v1+cell": {
     "cellMetadata": {},
     "inputWidgets": {},
     "nuid": "d6e72cd9-3dbc-40f2-b573-41c3fac36aed",
     "showTitle": false,
     "tableResultSettingsMap": {},
     "title": ""
    }
   },
   "outputs": [],
   "source": [
    "%run \"/Workspace/Repos/ashwin.nair8089@gmail.com/inshorts/library/password_manager\""
   ]
  },
  {
   "cell_type": "code",
   "execution_count": 0,
   "metadata": {
    "application/vnd.databricks.v1+cell": {
     "cellMetadata": {},
     "inputWidgets": {},
     "nuid": "398ccba7-c942-46c4-94d6-3dba9d4adac3",
     "showTitle": false,
     "tableResultSettingsMap": {},
     "title": ""
    }
   },
   "outputs": [],
   "source": [
    "conn, success, message = snowflake_connector(\"ashwin009\", get_password('snf_conn'), \"WSYCJNH-JF51761\",'COMPUTE_WH','INSHORTS','ETL')"
   ]
  },
  {
   "cell_type": "code",
   "execution_count": 0,
   "metadata": {
    "application/vnd.databricks.v1+cell": {
     "cellMetadata": {},
     "inputWidgets": {},
     "nuid": "a4c6666c-f492-423b-a038-2eb38c318609",
     "showTitle": false,
     "tableResultSettingsMap": {},
     "title": ""
    }
   },
   "outputs": [],
   "source": [
    "cursor = conn.cursor()"
   ]
  },
  {
   "cell_type": "code",
   "execution_count": 0,
   "metadata": {
    "application/vnd.databricks.v1+cell": {
     "cellMetadata": {},
     "inputWidgets": {},
     "nuid": "a7dd099c-8dd5-4dbf-85ca-c45146380b34",
     "showTitle": false,
     "tableResultSettingsMap": {},
     "title": ""
    }
   },
   "outputs": [],
   "source": [
    "\n",
    "cursor.execute('Truncate table foundation.monthly_churn')\n",
    "print(cursor.fetchall())\n",
    "cursor.execute(f'''INSERT INTO foundation.monthly_churn\n",
    "SELECT \n",
    "    u.install_dt, \n",
    "    FLOOR(DATEDIFF(DAY, u.install_dt, e.event_date) / 30) + 1 AS month_number,\n",
    "    COUNT(DISTINCT u.deviceid) - COUNT(DISTINCT e.deviceid) AS churned_users,\n",
    "    (COUNT(DISTINCT u.deviceid) - COUNT(DISTINCT e.deviceid)) / COUNT(DISTINCT u.deviceid) AS churn_rate\n",
    "FROM ETL.user u\n",
    "LEFT JOIN (\n",
    "    SELECT deviceid, DATE(eventtimestamp) AS event_date\n",
    "    FROM ETL.event    \n",
    ") e ON u.deviceid = e.deviceid\n",
    "WHERE e.event_date BETWEEN u.install_dt AND DATEADD(MONTH, 3, u.install_dt) -- Covers first quarter\n",
    "GROUP BY u.install_dt, month_number;''')\n",
    "print(cursor.fetchall())"
   ]
  }
 ],
 "metadata": {
  "application/vnd.databricks.v1+notebook": {
   "computePreferences": null,
   "dashboards": [],
   "environmentMetadata": {
    "base_environment": "",
    "environment_version": "2"
   },
   "inputWidgetPreferences": null,
   "language": "python",
   "notebookMetadata": {
    "pythonIndentUnit": 4
   },
   "notebookName": "dm_monthly_churn_load",
   "widgets": {}
  },
  "language_info": {
   "name": "python"
  }
 },
 "nbformat": 4,
 "nbformat_minor": 0
}
