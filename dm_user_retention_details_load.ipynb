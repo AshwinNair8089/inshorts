{
 "cells": [
  {
   "cell_type": "code",
   "execution_count": 0,
   "metadata": {
    "application/vnd.databricks.v1+cell": {
     "cellMetadata": {},
     "inputWidgets": {},
     "nuid": "b72ac4ef-8ddd-42e9-a442-d0086900f2ea",
     "showTitle": false,
     "tableResultSettingsMap": {},
     "title": ""
    }
   },
   "outputs": [],
   "source": [
    "%run \"/Workspace/Repos/ashwin.nair8089@gmail.com/inshorts/library/connector\""
   ]
  },
  {
   "cell_type": "code",
   "execution_count": 0,
   "metadata": {
    "application/vnd.databricks.v1+cell": {
     "cellMetadata": {},
     "inputWidgets": {},
     "nuid": "d6e72cd9-3dbc-40f2-b573-41c3fac36aed",
     "showTitle": false,
     "tableResultSettingsMap": {},
     "title": ""
    }
   },
   "outputs": [],
   "source": [
    "%run \"/Workspace/Repos/ashwin.nair8089@gmail.com/inshorts/library/password_manager\""
   ]
  },
  {
   "cell_type": "code",
   "execution_count": 0,
   "metadata": {
    "application/vnd.databricks.v1+cell": {
     "cellMetadata": {},
     "inputWidgets": {},
     "nuid": "398ccba7-c942-46c4-94d6-3dba9d4adac3",
     "showTitle": false,
     "tableResultSettingsMap": {},
     "title": ""
    }
   },
   "outputs": [],
   "source": [
    "conn, success, message = snowflake_connector(\"ashwin009\", get_password('snf_conn'), \"WSYCJNH-JF51761\",'COMPUTE_WH','INSHORTS','ETL')"
   ]
  },
  {
   "cell_type": "code",
   "execution_count": 0,
   "metadata": {
    "application/vnd.databricks.v1+cell": {
     "cellMetadata": {},
     "inputWidgets": {},
     "nuid": "a4c6666c-f492-423b-a038-2eb38c318609",
     "showTitle": false,
     "tableResultSettingsMap": {},
     "title": ""
    }
   },
   "outputs": [],
   "source": [
    "cursor = conn.cursor()"
   ]
  },
  {
   "cell_type": "code",
   "execution_count": 0,
   "metadata": {
    "application/vnd.databricks.v1+cell": {
     "cellMetadata": {},
     "inputWidgets": {},
     "nuid": "8ebad7e7-8ef1-4f0c-8450-b1bae8a0c356",
     "showTitle": false,
     "tableResultSettingsMap": {},
     "title": ""
    }
   },
   "outputs": [],
   "source": [
    "\n",
    "cursor.execute('Truncate table foundation.user_retention_details')\n",
    "print(cursor.fetchall())\n",
    "cursor.execute(f'''INSERT INTO foundation.user_retention_details\n",
    "SELECT \n",
    "    u.deviceid, \n",
    "    u.install_dt, \n",
    "    retention_period,\n",
    "    CASE WHEN e.event_date IS NOT NULL THEN TRUE ELSE FALSE END AS retained\n",
    "FROM (\n",
    "    SELECT deviceid, install_dt, 'D1' AS retention_period, DATEADD(DAY, 1, install_dt) AS target_date FROM ETL.user\n",
    "    UNION ALL\n",
    "    SELECT deviceid, install_dt, 'D2' AS retention_period, DATEADD(DAY, 2, install_dt) AS target_date FROM ETL.user\n",
    "    UNION ALL\n",
    "    SELECT deviceid, install_dt, 'W1' AS retention_period, DATEADD(DAY, 7, install_dt) AS target_date FROM ETL.user\n",
    "    UNION ALL\n",
    "    SELECT deviceid, install_dt, 'M1' AS retention_period, DATEADD(MONTH, 1, install_dt) AS target_date FROM ETL.user\n",
    "    UNION ALL\n",
    "    SELECT deviceid, install_dt, 'M3' AS retention_period, DATEADD(MONTH, 3, install_dt) AS target_date FROM ETL.user\n",
    ") u\n",
    "LEFT JOIN (\n",
    "    SELECT deviceid, DATE(eventtimestamp) AS event_date\n",
    "    FROM ETL.event\n",
    ") e ON u.deviceid = e.deviceid AND u.target_date = e.event_date;''')\n",
    "print(cursor.fetchall())"
   ]
  }
 ],
 "metadata": {
  "application/vnd.databricks.v1+notebook": {
   "computePreferences": null,
   "dashboards": [],
   "environmentMetadata": {
    "base_environment": "",
    "environment_version": "2"
   },
   "inputWidgetPreferences": null,
   "language": "python",
   "notebookMetadata": {
    "pythonIndentUnit": 4
   },
   "notebookName": "dm_user_retention_details_load",
   "widgets": {}
  },
  "language_info": {
   "name": "python"
  }
 },
 "nbformat": 4,
 "nbformat_minor": 0
}
