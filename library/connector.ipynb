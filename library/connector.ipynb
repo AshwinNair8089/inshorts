{
 "cells": [
  {
   "cell_type": "code",
   "execution_count": 0,
   "metadata": {
    "application/vnd.databricks.v1+cell": {
     "cellMetadata": {
      "byteLimit": 2048000,
      "rowLimit": 10000
     },
     "inputWidgets": {},
     "nuid": "0cff4dd1-cfd6-492f-986d-30b410d34097",
     "showTitle": false,
     "tableResultSettingsMap": {},
     "title": ""
    }
   },
   "outputs": [],
   "source": [
    "from datetime import date\n",
    "import sys,re\n",
    "from cryptography.fernet import Fernet\n",
    "import json\n",
    "import pandas as pd \n",
    "import os,itertools\n",
    "from pathlib import Path\n",
    "import snowflake.connector\n",
    "from snowflake.snowpark.functions import *\n",
    "from snowflake.snowpark import *\n",
    "from snowflake.snowpark import DataFrame\n",
    "from snowflake.snowpark.session import *\n",
    "\n",
    "import snowflake.connector\n",
    "from snowflake.connector.errors import ProgrammingError, DatabaseError\n",
    "\n",
    "def snowflake_connector(user, password, account, warehouse=None, database=None, schema=None):\n",
    "  try:\n",
    "    conn = snowflake.connector.connect(\n",
    "      user=user,\n",
    "      password=password,\n",
    "      account=account,\n",
    "      warehouse=warehouse,\n",
    "      database=database,\n",
    "      schema=schema\n",
    "    )\n",
    "    conn.cursor().execute(\"SELECT CURRENT_VERSION()\")\n",
    "   # conn.close()\n",
    "    return conn,True, \"Connection successful.\"\n",
    "  except (ProgrammingError, DatabaseError) as e:\n",
    "    return False, f\"Connection failed: {e}\"\n",
    "\n",
    "\n",
    "#conn, success, message = snowflake_connector(\"ashwin009\", \"***************\", \"WSYCJNH-JF51761\",'COMPUTE_WH','INSHORTS','ETL')\n",
    "\n",
    "#print(message)\n",
    "\n",
    "\n",
    "\n",
    "    "
   ]
  }
 ],
 "metadata": {
  "application/vnd.databricks.v1+notebook": {
   "computePreferences": null,
   "dashboards": [],
   "environmentMetadata": {
    "base_environment": "",
    "environment_version": "2"
   },
   "inputWidgetPreferences": null,
   "language": "python",
   "notebookMetadata": {
    "pythonIndentUnit": 4
   },
   "notebookName": "connector",
   "widgets": {}
  },
  "language_info": {
   "name": "python"
  }
 },
 "nbformat": 4,
 "nbformat_minor": 0
}
