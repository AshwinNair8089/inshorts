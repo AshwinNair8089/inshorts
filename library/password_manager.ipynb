{
 "cells": [
  {
   "cell_type": "code",
   "execution_count": 0,
   "metadata": {
    "application/vnd.databricks.v1+cell": {
     "cellMetadata": {},
     "inputWidgets": {},
     "nuid": "205c94a8-083d-424d-ab53-6b16eb01a106",
     "showTitle": false,
     "tableResultSettingsMap": {},
     "title": ""
    }
   },
   "outputs": [],
   "source": [
    "\n",
    "\n",
    "import os\n",
    "from pathlib import Path\n",
    "def find_root_dir():\n",
    "    path = Path(os.getcwd())\n",
    "    while path.name not in ['inshorts']:\n",
    "        path = path.parent\n",
    "    return path\n",
    "\n",
    "def get_password(key):\n",
    "    if key =='snf_conn':\n",
    "        return dbutils.secrets.get(scope=\"ashwin_key_vault2\", key=\"inshorts-snf-password\")\n",
    "        #return  \"Guru@1234Mrityu\"\n",
    "              \n",
    "   "
   ]
  }
 ],
 "metadata": {
  "application/vnd.databricks.v1+notebook": {
   "computePreferences": null,
   "dashboards": [],
   "environmentMetadata": {
    "base_environment": "",
    "environment_version": "2"
   },
   "inputWidgetPreferences": null,
   "language": "python",
   "notebookMetadata": {
    "pythonIndentUnit": 4
   },
   "notebookName": "password_manager",
   "widgets": {}
  },
  "language_info": {
   "name": "python"
  }
 },
 "nbformat": 4,
 "nbformat_minor": 0
}
