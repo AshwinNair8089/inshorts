{
 "cells": [
  {
   "cell_type": "code",
   "execution_count": 0,
   "metadata": {
    "application/vnd.databricks.v1+cell": {
     "cellMetadata": {
      "byteLimit": 2048000,
      "rowLimit": 10000
     },
     "inputWidgets": {},
     "nuid": "e783e120-def4-4ce1-87ae-c059a679f625",
     "showTitle": false,
     "tableResultSettingsMap": {},
     "title": ""
    }
   },
   "outputs": [],
   "source": [
    "%run \"/Workspace/Users/ashwin.nair8089@gmail.com/inshorts/connector\""
   ]
  },
  {
   "cell_type": "code",
   "execution_count": 0,
   "metadata": {
    "application/vnd.databricks.v1+cell": {
     "cellMetadata": {
      "byteLimit": 2048000,
      "rowLimit": 10000
     },
     "inputWidgets": {},
     "nuid": "6d581ec5-3ffe-4db7-963e-5f5d680f3e95",
     "showTitle": false,
     "tableResultSettingsMap": {},
     "title": ""
    }
   },
   "outputs": [],
   "source": [
    "%run \"/Workspace/Users/ashwin.nair8089@gmail.com/inshorts/password_manager\""
   ]
  },
  {
   "cell_type": "code",
   "execution_count": 0,
   "metadata": {
    "application/vnd.databricks.v1+cell": {
     "cellMetadata": {
      "byteLimit": 2048000,
      "rowLimit": 10000
     },
     "inputWidgets": {},
     "nuid": "cd464ee9-369e-4ef9-b83b-24b366454c56",
     "showTitle": false,
     "tableResultSettingsMap": {},
     "title": ""
    }
   },
   "outputs": [],
   "source": [
    "conn, success, message = snowflake_connector(\"ashwin009\", get_password('snf_conn'), \"WSYCJNH-JF51761\",'COMPUTE_WH','INSHORTS','ETL')"
   ]
  },
  {
   "cell_type": "code",
   "execution_count": 0,
   "metadata": {
    "application/vnd.databricks.v1+cell": {
     "cellMetadata": {
      "byteLimit": 2048000,
      "rowLimit": 10000
     },
     "inputWidgets": {},
     "nuid": "ed39e2c6-7dc1-4c3f-9c71-ac700d6d4f82",
     "showTitle": false,
     "tableResultSettingsMap": {},
     "title": ""
    }
   },
   "outputs": [],
   "source": [
    "cursor = conn.cursor()"
   ]
  },
  {
   "cell_type": "code",
   "execution_count": 0,
   "metadata": {
    "application/vnd.databricks.v1+cell": {
     "cellMetadata": {
      "byteLimit": 2048000,
      "rowLimit": 10000
     },
     "inputWidgets": {},
     "nuid": "2619162e-ae53-4c80-8c34-1f65d1c7e31b",
     "showTitle": false,
     "tableResultSettingsMap": {},
     "title": ""
    }
   },
   "outputs": [],
   "source": [
    "\n",
    "cursor.execute('Truncate table compact.event_content_user')\n",
    "print(cursor.fetchall())\n",
    "cursor.execute(f'''insert into compact.event_content_user (\n",
    "\n",
    "select \n",
    "    a.deviceid  , \n",
    "    a.content_id , \n",
    "    a.eventtimestamp , \n",
    "    a.timespent , \n",
    "    a.eventname ,\n",
    "\tb.createdAt , \n",
    "    b.newsLanguage , \n",
    "    b.categories , \n",
    "    b.author , \n",
    "    c.lang , \n",
    "    c.district , \n",
    "    c.platform , \n",
    "    c.install_dt , \n",
    "    c.campaign_id \n",
    "from \n",
    "etl.event a\n",
    "left join etl.content b on \n",
    "a.content_id = b.content_id \n",
    "left join etl.user c on\n",
    "a.deviceid = c.deviceid )\n",
    ";''')\n",
    "print(cursor.fetchall())"
   ]
  }
 ],
 "metadata": {
  "application/vnd.databricks.v1+notebook": {
   "computePreferences": null,
   "dashboards": [],
   "environmentMetadata": {
    "base_environment": "",
    "environment_version": "2"
   },
   "inputWidgetPreferences": null,
   "language": "python",
   "notebookMetadata": {
    "pythonIndentUnit": 4
   },
   "notebookName": "load_compact_event_content_user",
   "widgets": {}
  },
  "language_info": {
   "name": "python"
  }
 },
 "nbformat": 4,
 "nbformat_minor": 0
}
